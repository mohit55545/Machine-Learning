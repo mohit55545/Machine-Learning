{
 "cells": [
  {
   "cell_type": "code",
   "execution_count": 1,
   "metadata": {
    "collapsed": true
   },
   "outputs": [],
   "source": [
    "import pandas as pd\n",
    "import numpy as np"
   ]
  },
  {
   "cell_type": "code",
   "execution_count": 4,
   "metadata": {
    "collapsed": true
   },
   "outputs": [],
   "source": [
    "steel=pd.read_table('http://archive.ics.uci.edu/ml/machine-learning-databases/00198/Faults.NNA',header=None)"
   ]
  },
  {
   "cell_type": "code",
   "execution_count": 5,
   "metadata": {},
   "outputs": [
    {
     "data": {
      "text/html": [
       "<div>\n",
       "<style>\n",
       "    .dataframe thead tr:only-child th {\n",
       "        text-align: right;\n",
       "    }\n",
       "\n",
       "    .dataframe thead th {\n",
       "        text-align: left;\n",
       "    }\n",
       "\n",
       "    .dataframe tbody tr th {\n",
       "        vertical-align: top;\n",
       "    }\n",
       "</style>\n",
       "<table border=\"1\" class=\"dataframe\">\n",
       "  <thead>\n",
       "    <tr style=\"text-align: right;\">\n",
       "      <th></th>\n",
       "      <th>0</th>\n",
       "      <th>1</th>\n",
       "      <th>2</th>\n",
       "      <th>3</th>\n",
       "      <th>4</th>\n",
       "      <th>5</th>\n",
       "      <th>6</th>\n",
       "      <th>7</th>\n",
       "      <th>8</th>\n",
       "      <th>9</th>\n",
       "      <th>...</th>\n",
       "      <th>24</th>\n",
       "      <th>25</th>\n",
       "      <th>26</th>\n",
       "      <th>27</th>\n",
       "      <th>28</th>\n",
       "      <th>29</th>\n",
       "      <th>30</th>\n",
       "      <th>31</th>\n",
       "      <th>32</th>\n",
       "      <th>33</th>\n",
       "    </tr>\n",
       "  </thead>\n",
       "  <tbody>\n",
       "    <tr>\n",
       "      <th>0</th>\n",
       "      <td>42</td>\n",
       "      <td>50</td>\n",
       "      <td>270900</td>\n",
       "      <td>270944</td>\n",
       "      <td>267</td>\n",
       "      <td>17</td>\n",
       "      <td>44</td>\n",
       "      <td>24220</td>\n",
       "      <td>76</td>\n",
       "      <td>108</td>\n",
       "      <td>...</td>\n",
       "      <td>0.8182</td>\n",
       "      <td>-0.2913</td>\n",
       "      <td>0.5822</td>\n",
       "      <td>1</td>\n",
       "      <td>0</td>\n",
       "      <td>0</td>\n",
       "      <td>0</td>\n",
       "      <td>0</td>\n",
       "      <td>0</td>\n",
       "      <td>0</td>\n",
       "    </tr>\n",
       "    <tr>\n",
       "      <th>1</th>\n",
       "      <td>645</td>\n",
       "      <td>651</td>\n",
       "      <td>2538079</td>\n",
       "      <td>2538108</td>\n",
       "      <td>108</td>\n",
       "      <td>10</td>\n",
       "      <td>30</td>\n",
       "      <td>11397</td>\n",
       "      <td>84</td>\n",
       "      <td>123</td>\n",
       "      <td>...</td>\n",
       "      <td>0.7931</td>\n",
       "      <td>-0.1756</td>\n",
       "      <td>0.2984</td>\n",
       "      <td>1</td>\n",
       "      <td>0</td>\n",
       "      <td>0</td>\n",
       "      <td>0</td>\n",
       "      <td>0</td>\n",
       "      <td>0</td>\n",
       "      <td>0</td>\n",
       "    </tr>\n",
       "    <tr>\n",
       "      <th>2</th>\n",
       "      <td>829</td>\n",
       "      <td>835</td>\n",
       "      <td>1553913</td>\n",
       "      <td>1553931</td>\n",
       "      <td>71</td>\n",
       "      <td>8</td>\n",
       "      <td>19</td>\n",
       "      <td>7972</td>\n",
       "      <td>99</td>\n",
       "      <td>125</td>\n",
       "      <td>...</td>\n",
       "      <td>0.6667</td>\n",
       "      <td>-0.1228</td>\n",
       "      <td>0.2150</td>\n",
       "      <td>1</td>\n",
       "      <td>0</td>\n",
       "      <td>0</td>\n",
       "      <td>0</td>\n",
       "      <td>0</td>\n",
       "      <td>0</td>\n",
       "      <td>0</td>\n",
       "    </tr>\n",
       "    <tr>\n",
       "      <th>3</th>\n",
       "      <td>853</td>\n",
       "      <td>860</td>\n",
       "      <td>369370</td>\n",
       "      <td>369415</td>\n",
       "      <td>176</td>\n",
       "      <td>13</td>\n",
       "      <td>45</td>\n",
       "      <td>18996</td>\n",
       "      <td>99</td>\n",
       "      <td>126</td>\n",
       "      <td>...</td>\n",
       "      <td>0.8444</td>\n",
       "      <td>-0.1568</td>\n",
       "      <td>0.5212</td>\n",
       "      <td>1</td>\n",
       "      <td>0</td>\n",
       "      <td>0</td>\n",
       "      <td>0</td>\n",
       "      <td>0</td>\n",
       "      <td>0</td>\n",
       "      <td>0</td>\n",
       "    </tr>\n",
       "    <tr>\n",
       "      <th>4</th>\n",
       "      <td>1289</td>\n",
       "      <td>1306</td>\n",
       "      <td>498078</td>\n",
       "      <td>498335</td>\n",
       "      <td>2409</td>\n",
       "      <td>60</td>\n",
       "      <td>260</td>\n",
       "      <td>246930</td>\n",
       "      <td>37</td>\n",
       "      <td>126</td>\n",
       "      <td>...</td>\n",
       "      <td>0.9338</td>\n",
       "      <td>-0.1992</td>\n",
       "      <td>1.0000</td>\n",
       "      <td>1</td>\n",
       "      <td>0</td>\n",
       "      <td>0</td>\n",
       "      <td>0</td>\n",
       "      <td>0</td>\n",
       "      <td>0</td>\n",
       "      <td>0</td>\n",
       "    </tr>\n",
       "  </tbody>\n",
       "</table>\n",
       "<p>5 rows × 34 columns</p>\n",
       "</div>"
      ],
      "text/plain": [
       "     0     1        2        3     4   5    6       7   8    9  ...      24  \\\n",
       "0    42    50   270900   270944   267  17   44   24220  76  108 ...  0.8182   \n",
       "1   645   651  2538079  2538108   108  10   30   11397  84  123 ...  0.7931   \n",
       "2   829   835  1553913  1553931    71   8   19    7972  99  125 ...  0.6667   \n",
       "3   853   860   369370   369415   176  13   45   18996  99  126 ...  0.8444   \n",
       "4  1289  1306   498078   498335  2409  60  260  246930  37  126 ...  0.9338   \n",
       "\n",
       "       25      26  27  28  29  30  31  32  33  \n",
       "0 -0.2913  0.5822   1   0   0   0   0   0   0  \n",
       "1 -0.1756  0.2984   1   0   0   0   0   0   0  \n",
       "2 -0.1228  0.2150   1   0   0   0   0   0   0  \n",
       "3 -0.1568  0.5212   1   0   0   0   0   0   0  \n",
       "4 -0.1992  1.0000   1   0   0   0   0   0   0  \n",
       "\n",
       "[5 rows x 34 columns]"
      ]
     },
     "execution_count": 5,
     "metadata": {},
     "output_type": "execute_result"
    }
   ],
   "source": [
    "steel.head()"
   ]
  },
  {
   "cell_type": "code",
   "execution_count": 6,
   "metadata": {
    "collapsed": true
   },
   "outputs": [],
   "source": [
    "steel1=pd.read_csv('Steel Plate Faults.csv')"
   ]
  },
  {
   "cell_type": "code",
   "execution_count": 7,
   "metadata": {
    "scrolled": true
   },
   "outputs": [
    {
     "data": {
      "text/html": [
       "<div>\n",
       "<style>\n",
       "    .dataframe thead tr:only-child th {\n",
       "        text-align: right;\n",
       "    }\n",
       "\n",
       "    .dataframe thead th {\n",
       "        text-align: left;\n",
       "    }\n",
       "\n",
       "    .dataframe tbody tr th {\n",
       "        vertical-align: top;\n",
       "    }\n",
       "</style>\n",
       "<table border=\"1\" class=\"dataframe\">\n",
       "  <thead>\n",
       "    <tr style=\"text-align: right;\">\n",
       "      <th></th>\n",
       "      <th>X_Minimum</th>\n",
       "      <th>X_Maximum</th>\n",
       "      <th>Y_Minimum</th>\n",
       "      <th>Y_Maximum</th>\n",
       "      <th>Pixels_Areas</th>\n",
       "      <th>X_Perimeter</th>\n",
       "      <th>Y_Perimeter</th>\n",
       "      <th>Sum_of_Luminosity</th>\n",
       "      <th>Minimum_of_Luminosity</th>\n",
       "      <th>Maximum_of_Luminosity</th>\n",
       "      <th>...</th>\n",
       "      <th>Edges_X_Index</th>\n",
       "      <th>Edges_Y_Index</th>\n",
       "      <th>Outside_Global_Index</th>\n",
       "      <th>LogOfAreas</th>\n",
       "      <th>Log_X_Index</th>\n",
       "      <th>Log_Y_Index</th>\n",
       "      <th>Orientation_Index</th>\n",
       "      <th>Luminosity_Index</th>\n",
       "      <th>SigmoidOfAreas</th>\n",
       "      <th>Fault</th>\n",
       "    </tr>\n",
       "  </thead>\n",
       "  <tbody>\n",
       "    <tr>\n",
       "      <th>0</th>\n",
       "      <td>42</td>\n",
       "      <td>50</td>\n",
       "      <td>270900</td>\n",
       "      <td>270944</td>\n",
       "      <td>267</td>\n",
       "      <td>17</td>\n",
       "      <td>44</td>\n",
       "      <td>24220</td>\n",
       "      <td>76</td>\n",
       "      <td>108</td>\n",
       "      <td>...</td>\n",
       "      <td>0.4706</td>\n",
       "      <td>1.0000</td>\n",
       "      <td>1.0</td>\n",
       "      <td>2.4265</td>\n",
       "      <td>0.9031</td>\n",
       "      <td>1.6435</td>\n",
       "      <td>0.8182</td>\n",
       "      <td>-0.2913</td>\n",
       "      <td>0.5822</td>\n",
       "      <td>Pastry</td>\n",
       "    </tr>\n",
       "    <tr>\n",
       "      <th>1</th>\n",
       "      <td>645</td>\n",
       "      <td>651</td>\n",
       "      <td>2538079</td>\n",
       "      <td>2538108</td>\n",
       "      <td>108</td>\n",
       "      <td>10</td>\n",
       "      <td>30</td>\n",
       "      <td>11397</td>\n",
       "      <td>84</td>\n",
       "      <td>123</td>\n",
       "      <td>...</td>\n",
       "      <td>0.6000</td>\n",
       "      <td>0.9667</td>\n",
       "      <td>1.0</td>\n",
       "      <td>2.0334</td>\n",
       "      <td>0.7782</td>\n",
       "      <td>1.4624</td>\n",
       "      <td>0.7931</td>\n",
       "      <td>-0.1756</td>\n",
       "      <td>0.2984</td>\n",
       "      <td>Pastry</td>\n",
       "    </tr>\n",
       "    <tr>\n",
       "      <th>2</th>\n",
       "      <td>829</td>\n",
       "      <td>835</td>\n",
       "      <td>1553913</td>\n",
       "      <td>1553931</td>\n",
       "      <td>71</td>\n",
       "      <td>8</td>\n",
       "      <td>19</td>\n",
       "      <td>7972</td>\n",
       "      <td>99</td>\n",
       "      <td>125</td>\n",
       "      <td>...</td>\n",
       "      <td>0.7500</td>\n",
       "      <td>0.9474</td>\n",
       "      <td>1.0</td>\n",
       "      <td>1.8513</td>\n",
       "      <td>0.7782</td>\n",
       "      <td>1.2553</td>\n",
       "      <td>0.6667</td>\n",
       "      <td>-0.1228</td>\n",
       "      <td>0.2150</td>\n",
       "      <td>Pastry</td>\n",
       "    </tr>\n",
       "    <tr>\n",
       "      <th>3</th>\n",
       "      <td>853</td>\n",
       "      <td>860</td>\n",
       "      <td>369370</td>\n",
       "      <td>369415</td>\n",
       "      <td>176</td>\n",
       "      <td>13</td>\n",
       "      <td>45</td>\n",
       "      <td>18996</td>\n",
       "      <td>99</td>\n",
       "      <td>126</td>\n",
       "      <td>...</td>\n",
       "      <td>0.5385</td>\n",
       "      <td>1.0000</td>\n",
       "      <td>1.0</td>\n",
       "      <td>2.2455</td>\n",
       "      <td>0.8451</td>\n",
       "      <td>1.6532</td>\n",
       "      <td>0.8444</td>\n",
       "      <td>-0.1568</td>\n",
       "      <td>0.5212</td>\n",
       "      <td>Pastry</td>\n",
       "    </tr>\n",
       "    <tr>\n",
       "      <th>4</th>\n",
       "      <td>1289</td>\n",
       "      <td>1306</td>\n",
       "      <td>498078</td>\n",
       "      <td>498335</td>\n",
       "      <td>2409</td>\n",
       "      <td>60</td>\n",
       "      <td>260</td>\n",
       "      <td>246930</td>\n",
       "      <td>37</td>\n",
       "      <td>126</td>\n",
       "      <td>...</td>\n",
       "      <td>0.2833</td>\n",
       "      <td>0.9885</td>\n",
       "      <td>1.0</td>\n",
       "      <td>3.3818</td>\n",
       "      <td>1.2305</td>\n",
       "      <td>2.4099</td>\n",
       "      <td>0.9338</td>\n",
       "      <td>-0.1992</td>\n",
       "      <td>1.0000</td>\n",
       "      <td>Pastry</td>\n",
       "    </tr>\n",
       "  </tbody>\n",
       "</table>\n",
       "<p>5 rows × 28 columns</p>\n",
       "</div>"
      ],
      "text/plain": [
       "   X_Minimum  X_Maximum  Y_Minimum  Y_Maximum  Pixels_Areas  X_Perimeter  \\\n",
       "0         42         50     270900     270944           267           17   \n",
       "1        645        651    2538079    2538108           108           10   \n",
       "2        829        835    1553913    1553931            71            8   \n",
       "3        853        860     369370     369415           176           13   \n",
       "4       1289       1306     498078     498335          2409           60   \n",
       "\n",
       "   Y_Perimeter  Sum_of_Luminosity  Minimum_of_Luminosity  \\\n",
       "0           44              24220                     76   \n",
       "1           30              11397                     84   \n",
       "2           19               7972                     99   \n",
       "3           45              18996                     99   \n",
       "4          260             246930                     37   \n",
       "\n",
       "   Maximum_of_Luminosity   ...    Edges_X_Index  Edges_Y_Index  \\\n",
       "0                    108   ...           0.4706         1.0000   \n",
       "1                    123   ...           0.6000         0.9667   \n",
       "2                    125   ...           0.7500         0.9474   \n",
       "3                    126   ...           0.5385         1.0000   \n",
       "4                    126   ...           0.2833         0.9885   \n",
       "\n",
       "   Outside_Global_Index  LogOfAreas  Log_X_Index  Log_Y_Index  \\\n",
       "0                   1.0      2.4265       0.9031       1.6435   \n",
       "1                   1.0      2.0334       0.7782       1.4624   \n",
       "2                   1.0      1.8513       0.7782       1.2553   \n",
       "3                   1.0      2.2455       0.8451       1.6532   \n",
       "4                   1.0      3.3818       1.2305       2.4099   \n",
       "\n",
       "   Orientation_Index  Luminosity_Index  SigmoidOfAreas   Fault  \n",
       "0             0.8182           -0.2913          0.5822  Pastry  \n",
       "1             0.7931           -0.1756          0.2984  Pastry  \n",
       "2             0.6667           -0.1228          0.2150  Pastry  \n",
       "3             0.8444           -0.1568          0.5212  Pastry  \n",
       "4             0.9338           -0.1992          1.0000  Pastry  \n",
       "\n",
       "[5 rows x 28 columns]"
      ]
     },
     "execution_count": 7,
     "metadata": {},
     "output_type": "execute_result"
    }
   ],
   "source": [
    "steel1.head()"
   ]
  },
  {
   "cell_type": "markdown",
   "metadata": {},
   "source": [
    "# Naive Bayesian"
   ]
  },
  {
   "cell_type": "code",
   "execution_count": 17,
   "metadata": {},
   "outputs": [],
   "source": [
    "from sklearn import naive_bayes\n",
    "from sklearn import preprocessing"
   ]
  },
  {
   "cell_type": "code",
   "execution_count": 18,
   "metadata": {
    "collapsed": true
   },
   "outputs": [],
   "source": [
    "l=[]\n",
    "for i in range(len(steel1)):\n",
    "    if steel1['TypeOfSteel_A3FalseFalse'][i]:\n",
    "        l.append('A3')\n",
    "    else:\n",
    "        l.append('A4')"
   ]
  },
  {
   "cell_type": "code",
   "execution_count": 21,
   "metadata": {},
   "outputs": [],
   "source": [
    "steel1['TypeOfSteel']=l"
   ]
  },
  {
   "cell_type": "code",
   "execution_count": 22,
   "metadata": {
    "collapsed": true
   },
   "outputs": [],
   "source": [
    "steel1['TypeOfSteel']=steel1['TypeOfSteel'].astype('category')"
   ]
  },
  {
   "cell_type": "code",
   "execution_count": 23,
   "metadata": {
    "collapsed": true
   },
   "outputs": [],
   "source": [
    "le = preprocessing.LabelEncoder()"
   ]
  },
  {
   "cell_type": "code",
   "execution_count": 24,
   "metadata": {
    "collapsed": true
   },
   "outputs": [],
   "source": [
    "l_en=le.fit_transform(l)"
   ]
  },
  {
   "cell_type": "code",
   "execution_count": 26,
   "metadata": {},
   "outputs": [],
   "source": [
    "steel1['TypeOfSteel']=l_en"
   ]
  },
  {
   "cell_type": "code",
   "execution_count": 27,
   "metadata": {
    "collapsed": true
   },
   "outputs": [],
   "source": [
    "steel1['TypeOfSteel']=steel1['TypeOfSteel'].astype('category')"
   ]
  },
  {
   "cell_type": "code",
   "execution_count": 29,
   "metadata": {
    "collapsed": true
   },
   "outputs": [],
   "source": [
    "faults=steel1['Fault']"
   ]
  },
  {
   "cell_type": "code",
   "execution_count": 30,
   "metadata": {},
   "outputs": [],
   "source": [
    "faults_en=le.fit_transform(faults)"
   ]
  },
  {
   "cell_type": "code",
   "execution_count": 31,
   "metadata": {
    "collapsed": true
   },
   "outputs": [],
   "source": [
    "steel1['Fault']=faults_en"
   ]
  },
  {
   "cell_type": "code",
   "execution_count": 33,
   "metadata": {
    "collapsed": true
   },
   "outputs": [],
   "source": [
    "steel1['Fault']=steel1['Fault'].astype('category')"
   ]
  },
  {
   "cell_type": "code",
   "execution_count": 34,
   "metadata": {},
   "outputs": [],
   "source": [
    "steel1_num_normalized = preprocessing.scale(X = steel1.drop(['TypeOfSteel_A3FalseFalse','TypeOfSteel_A4FalseFalse','TypeOfSteel','Fault'],axis=1))"
   ]
  },
  {
   "cell_type": "code",
   "execution_count": 35,
   "metadata": {
    "collapsed": true
   },
   "outputs": [],
   "source": [
    "nb_classifier_multinom = naive_bayes.MultinomialNB()"
   ]
  },
  {
   "cell_type": "code",
   "execution_count": 48,
   "metadata": {},
   "outputs": [
    {
     "data": {
      "text/plain": [
       "(1941, 1)"
      ]
     },
     "execution_count": 48,
     "metadata": {},
     "output_type": "execute_result"
    }
   ],
   "source": [
    "np.atleast_2d(steel1['TypeOfSteel']).transpose().shape"
   ]
  },
  {
   "cell_type": "code",
   "execution_count": 47,
   "metadata": {},
   "outputs": [
    {
     "data": {
      "text/plain": [
       "MultinomialNB(alpha=1.0, class_prior=None, fit_prior=True)"
      ]
     },
     "execution_count": 47,
     "metadata": {},
     "output_type": "execute_result"
    }
   ],
   "source": [
    "nb_classifier_multinom.fit(X = np.atleast_2d(steel1['TypeOfSteel']).transpose(), y = steel1['Fault'])"
   ]
  },
  {
   "cell_type": "code",
   "execution_count": 49,
   "metadata": {
    "collapsed": true
   },
   "outputs": [],
   "source": [
    "df_steel1_num_normalized=pd.DataFrame(steel1_num_normalized)"
   ]
  },
  {
   "cell_type": "code",
   "execution_count": 50,
   "metadata": {},
   "outputs": [
    {
     "data": {
      "text/plain": [
       "GaussianNB(priors=None)"
      ]
     },
     "execution_count": 50,
     "metadata": {},
     "output_type": "execute_result"
    }
   ],
   "source": [
    "nb_classifier = naive_bayes.GaussianNB()\n",
    "nb_classifier.fit(X = df_steel1_num_normalized, y = steel1['Fault'])"
   ]
  },
  {
   "cell_type": "code",
   "execution_count": 51,
   "metadata": {
    "collapsed": true
   },
   "outputs": [],
   "source": [
    "Cat_pred = nb_classifier_multinom.predict_proba(X = np.atleast_2d(steel1['TypeOfSteel']).transpose())"
   ]
  },
  {
   "cell_type": "code",
   "execution_count": 52,
   "metadata": {
    "collapsed": true
   },
   "outputs": [],
   "source": [
    "Num_pred=nb_classifier.predict_proba(X=df_steel1_num_normalized)"
   ]
  },
  {
   "cell_type": "code",
   "execution_count": 53,
   "metadata": {
    "collapsed": true
   },
   "outputs": [],
   "source": [
    "steel1_probs = np.column_stack((Cat_pred, Num_pred))"
   ]
  },
  {
   "cell_type": "code",
   "execution_count": 55,
   "metadata": {},
   "outputs": [
    {
     "data": {
      "text/plain": [
       "GaussianNB(priors=None)"
      ]
     },
     "execution_count": 55,
     "metadata": {},
     "output_type": "execute_result"
    }
   ],
   "source": [
    "nb_classifier.fit(X = steel1_probs,y = steel1['Fault'])"
   ]
  },
  {
   "cell_type": "code",
   "execution_count": 57,
   "metadata": {
    "collapsed": true
   },
   "outputs": [],
   "source": [
    "steel1_final_pred = nb_classifier.predict(X = steel1_probs)"
   ]
  },
  {
   "cell_type": "code",
   "execution_count": 58,
   "metadata": {},
   "outputs": [
    {
     "data": {
      "text/plain": [
       "array([[  1, 366,  22,   5,   4,   4,   0],\n",
       "       [  0,  54,   1,   0,   0,   0,   0],\n",
       "       [  0,  13, 364,   0,   3,   2,   9],\n",
       "       [  2, 461, 176,  10,   8,   6,  10],\n",
       "       [  0, 151,   4,   0,   2,   1,   0],\n",
       "       [  0,   3,   0,   0,   0,  69,   0],\n",
       "       [  0, 170,   9,   0,   0,   1,  10]], dtype=int64)"
      ]
     },
     "execution_count": 58,
     "metadata": {},
     "output_type": "execute_result"
    }
   ],
   "source": [
    "from sklearn import metrics\n",
    "metrics.confusion_matrix(steel1['Fault'],steel1_final_pred)"
   ]
  },
  {
   "cell_type": "code",
   "execution_count": 59,
   "metadata": {},
   "outputs": [
    {
     "data": {
      "text/plain": [
       "0.26275115919629055"
      ]
     },
     "execution_count": 59,
     "metadata": {},
     "output_type": "execute_result"
    }
   ],
   "source": [
    "metrics.accuracy_score(steel1['Fault'],steel1_final_pred)"
   ]
  },
  {
   "cell_type": "code",
   "execution_count": 61,
   "metadata": {},
   "outputs": [
    {
     "data": {
      "text/html": [
       "<div>\n",
       "<style>\n",
       "    .dataframe thead tr:only-child th {\n",
       "        text-align: right;\n",
       "    }\n",
       "\n",
       "    .dataframe thead th {\n",
       "        text-align: left;\n",
       "    }\n",
       "\n",
       "    .dataframe tbody tr th {\n",
       "        vertical-align: top;\n",
       "    }\n",
       "</style>\n",
       "<table border=\"1\" class=\"dataframe\">\n",
       "  <thead>\n",
       "    <tr style=\"text-align: right;\">\n",
       "      <th></th>\n",
       "      <th>X_Minimum</th>\n",
       "      <th>X_Maximum</th>\n",
       "      <th>Y_Minimum</th>\n",
       "      <th>Y_Maximum</th>\n",
       "      <th>Pixels_Areas</th>\n",
       "      <th>X_Perimeter</th>\n",
       "      <th>Y_Perimeter</th>\n",
       "      <th>Sum_of_Luminosity</th>\n",
       "      <th>Minimum_of_Luminosity</th>\n",
       "      <th>Maximum_of_Luminosity</th>\n",
       "      <th>...</th>\n",
       "      <th>Edges_Y_Index</th>\n",
       "      <th>Outside_Global_Index</th>\n",
       "      <th>LogOfAreas</th>\n",
       "      <th>Log_X_Index</th>\n",
       "      <th>Log_Y_Index</th>\n",
       "      <th>Orientation_Index</th>\n",
       "      <th>Luminosity_Index</th>\n",
       "      <th>SigmoidOfAreas</th>\n",
       "      <th>Fault</th>\n",
       "      <th>TypeOfSteel</th>\n",
       "    </tr>\n",
       "  </thead>\n",
       "  <tbody>\n",
       "    <tr>\n",
       "      <th>0</th>\n",
       "      <td>42</td>\n",
       "      <td>50</td>\n",
       "      <td>270900</td>\n",
       "      <td>270944</td>\n",
       "      <td>267</td>\n",
       "      <td>17</td>\n",
       "      <td>44</td>\n",
       "      <td>24220</td>\n",
       "      <td>76</td>\n",
       "      <td>108</td>\n",
       "      <td>...</td>\n",
       "      <td>1.0000</td>\n",
       "      <td>1.0</td>\n",
       "      <td>2.4265</td>\n",
       "      <td>0.9031</td>\n",
       "      <td>1.6435</td>\n",
       "      <td>0.8182</td>\n",
       "      <td>-0.2913</td>\n",
       "      <td>0.5822</td>\n",
       "      <td>4</td>\n",
       "      <td>0</td>\n",
       "    </tr>\n",
       "    <tr>\n",
       "      <th>1</th>\n",
       "      <td>645</td>\n",
       "      <td>651</td>\n",
       "      <td>2538079</td>\n",
       "      <td>2538108</td>\n",
       "      <td>108</td>\n",
       "      <td>10</td>\n",
       "      <td>30</td>\n",
       "      <td>11397</td>\n",
       "      <td>84</td>\n",
       "      <td>123</td>\n",
       "      <td>...</td>\n",
       "      <td>0.9667</td>\n",
       "      <td>1.0</td>\n",
       "      <td>2.0334</td>\n",
       "      <td>0.7782</td>\n",
       "      <td>1.4624</td>\n",
       "      <td>0.7931</td>\n",
       "      <td>-0.1756</td>\n",
       "      <td>0.2984</td>\n",
       "      <td>4</td>\n",
       "      <td>0</td>\n",
       "    </tr>\n",
       "    <tr>\n",
       "      <th>2</th>\n",
       "      <td>829</td>\n",
       "      <td>835</td>\n",
       "      <td>1553913</td>\n",
       "      <td>1553931</td>\n",
       "      <td>71</td>\n",
       "      <td>8</td>\n",
       "      <td>19</td>\n",
       "      <td>7972</td>\n",
       "      <td>99</td>\n",
       "      <td>125</td>\n",
       "      <td>...</td>\n",
       "      <td>0.9474</td>\n",
       "      <td>1.0</td>\n",
       "      <td>1.8513</td>\n",
       "      <td>0.7782</td>\n",
       "      <td>1.2553</td>\n",
       "      <td>0.6667</td>\n",
       "      <td>-0.1228</td>\n",
       "      <td>0.2150</td>\n",
       "      <td>4</td>\n",
       "      <td>0</td>\n",
       "    </tr>\n",
       "    <tr>\n",
       "      <th>3</th>\n",
       "      <td>853</td>\n",
       "      <td>860</td>\n",
       "      <td>369370</td>\n",
       "      <td>369415</td>\n",
       "      <td>176</td>\n",
       "      <td>13</td>\n",
       "      <td>45</td>\n",
       "      <td>18996</td>\n",
       "      <td>99</td>\n",
       "      <td>126</td>\n",
       "      <td>...</td>\n",
       "      <td>1.0000</td>\n",
       "      <td>1.0</td>\n",
       "      <td>2.2455</td>\n",
       "      <td>0.8451</td>\n",
       "      <td>1.6532</td>\n",
       "      <td>0.8444</td>\n",
       "      <td>-0.1568</td>\n",
       "      <td>0.5212</td>\n",
       "      <td>4</td>\n",
       "      <td>1</td>\n",
       "    </tr>\n",
       "    <tr>\n",
       "      <th>4</th>\n",
       "      <td>1289</td>\n",
       "      <td>1306</td>\n",
       "      <td>498078</td>\n",
       "      <td>498335</td>\n",
       "      <td>2409</td>\n",
       "      <td>60</td>\n",
       "      <td>260</td>\n",
       "      <td>246930</td>\n",
       "      <td>37</td>\n",
       "      <td>126</td>\n",
       "      <td>...</td>\n",
       "      <td>0.9885</td>\n",
       "      <td>1.0</td>\n",
       "      <td>3.3818</td>\n",
       "      <td>1.2305</td>\n",
       "      <td>2.4099</td>\n",
       "      <td>0.9338</td>\n",
       "      <td>-0.1992</td>\n",
       "      <td>1.0000</td>\n",
       "      <td>4</td>\n",
       "      <td>1</td>\n",
       "    </tr>\n",
       "  </tbody>\n",
       "</table>\n",
       "<p>5 rows × 29 columns</p>\n",
       "</div>"
      ],
      "text/plain": [
       "   X_Minimum  X_Maximum  Y_Minimum  Y_Maximum  Pixels_Areas  X_Perimeter  \\\n",
       "0         42         50     270900     270944           267           17   \n",
       "1        645        651    2538079    2538108           108           10   \n",
       "2        829        835    1553913    1553931            71            8   \n",
       "3        853        860     369370     369415           176           13   \n",
       "4       1289       1306     498078     498335          2409           60   \n",
       "\n",
       "   Y_Perimeter  Sum_of_Luminosity  Minimum_of_Luminosity  \\\n",
       "0           44              24220                     76   \n",
       "1           30              11397                     84   \n",
       "2           19               7972                     99   \n",
       "3           45              18996                     99   \n",
       "4          260             246930                     37   \n",
       "\n",
       "   Maximum_of_Luminosity     ...       Edges_Y_Index  Outside_Global_Index  \\\n",
       "0                    108     ...              1.0000                   1.0   \n",
       "1                    123     ...              0.9667                   1.0   \n",
       "2                    125     ...              0.9474                   1.0   \n",
       "3                    126     ...              1.0000                   1.0   \n",
       "4                    126     ...              0.9885                   1.0   \n",
       "\n",
       "   LogOfAreas  Log_X_Index  Log_Y_Index  Orientation_Index  Luminosity_Index  \\\n",
       "0      2.4265       0.9031       1.6435             0.8182           -0.2913   \n",
       "1      2.0334       0.7782       1.4624             0.7931           -0.1756   \n",
       "2      1.8513       0.7782       1.2553             0.6667           -0.1228   \n",
       "3      2.2455       0.8451       1.6532             0.8444           -0.1568   \n",
       "4      3.3818       1.2305       2.4099             0.9338           -0.1992   \n",
       "\n",
       "   SigmoidOfAreas  Fault  TypeOfSteel  \n",
       "0          0.5822      4            0  \n",
       "1          0.2984      4            0  \n",
       "2          0.2150      4            0  \n",
       "3          0.5212      4            1  \n",
       "4          1.0000      4            1  \n",
       "\n",
       "[5 rows x 29 columns]"
      ]
     },
     "execution_count": 61,
     "metadata": {},
     "output_type": "execute_result"
    }
   ],
   "source": [
    "steel1.head()"
   ]
  },
  {
   "cell_type": "code",
   "execution_count": 62,
   "metadata": {
    "collapsed": true
   },
   "outputs": [],
   "source": [
    "l3=[]\n",
    "l4=[]\n",
    "for i in range(len(steel1)):\n",
    "    if steel1['TypeOfSteel_A3FalseFalse'][i]:\n",
    "        l3.append(1)\n",
    "        l4.append(0)\n",
    "    else:\n",
    "        l3.append(0)\n",
    "        l4.append(1)"
   ]
  },
  {
   "cell_type": "code",
   "execution_count": 63,
   "metadata": {
    "collapsed": true
   },
   "outputs": [],
   "source": [
    "steel1['TypeOfSteel_A3FalseFalse']=l3\n",
    "steel1['TypeOfSteel_A4FalseFalse']=l4"
   ]
  },
  {
   "cell_type": "code",
   "execution_count": 64,
   "metadata": {
    "collapsed": true
   },
   "outputs": [],
   "source": [
    "steel1['TypeOfSteel_A3FalseFalse']=steel1['TypeOfSteel_A3FalseFalse'].astype('int')\n",
    "steel1['TypeOfSteel_A4FalseFalse']=steel1['TypeOfSteel_A4FalseFalse'].astype('int')"
   ]
  },
  {
   "cell_type": "code",
   "execution_count": 72,
   "metadata": {
    "collapsed": true
   },
   "outputs": [],
   "source": [
    "steel1_num_normalized1 = preprocessing.scale(X = steel1.drop(['X_Minimum','X_Perimeter','Y_Perimeter','Sum_of_Luminosity','Log_X_Index','Log_Y_Index','SigmoidOfAreas','TypeOfSteel','Fault'],axis=1))"
   ]
  },
  {
   "cell_type": "code",
   "execution_count": 73,
   "metadata": {
    "collapsed": true
   },
   "outputs": [],
   "source": [
    "df_steel1_num_normalized1=pd.DataFrame(steel1_num_normalized1)"
   ]
  },
  {
   "cell_type": "code",
   "execution_count": 74,
   "metadata": {},
   "outputs": [
    {
     "data": {
      "text/plain": [
       "GaussianNB(priors=None)"
      ]
     },
     "execution_count": 74,
     "metadata": {},
     "output_type": "execute_result"
    }
   ],
   "source": [
    "nb_classifier = naive_bayes.GaussianNB()\n",
    "nb_classifier.fit(X = df_steel1_num_normalized1, y = steel1['Fault'])"
   ]
  },
  {
   "cell_type": "code",
   "execution_count": 75,
   "metadata": {
    "collapsed": true
   },
   "outputs": [],
   "source": [
    "num_pred1=nb_classifier.predict(X=df_steel1_num_normalized1)"
   ]
  },
  {
   "cell_type": "code",
   "execution_count": 76,
   "metadata": {},
   "outputs": [
    {
     "data": {
      "text/plain": [
       "array([[264,  14,   6,  32,  70,   3,  13],\n",
       "       [  6,  40,   0,   3,   6,   0,   0],\n",
       "       [  3,   0, 349,  32,   5,   2,   0],\n",
       "       [175,  46,  68, 193, 159,   8,  24],\n",
       "       [ 15,   5,   0,   5, 124,   0,   9],\n",
       "       [  1,   0,   0,   0,   1,  70,   0],\n",
       "       [  7,   1,   8,   7,   8,   0, 159]], dtype=int64)"
      ]
     },
     "execution_count": 76,
     "metadata": {},
     "output_type": "execute_result"
    }
   ],
   "source": [
    "metrics.confusion_matrix(steel1['Fault'],num_pred1)"
   ]
  },
  {
   "cell_type": "code",
   "execution_count": 77,
   "metadata": {},
   "outputs": [
    {
     "data": {
      "text/plain": [
       "0.61772282328696548"
      ]
     },
     "execution_count": 77,
     "metadata": {},
     "output_type": "execute_result"
    }
   ],
   "source": [
    "metrics.accuracy_score(steel1['Fault'],num_pred1)"
   ]
  },
  {
   "cell_type": "code",
   "execution_count": 90,
   "metadata": {},
   "outputs": [
    {
     "data": {
      "text/plain": [
       "0.53792712694008604"
      ]
     },
     "execution_count": 90,
     "metadata": {},
     "output_type": "execute_result"
    }
   ],
   "source": [
    "cohen_kappa_score(num_pred1,steel1['Fault'])"
   ]
  },
  {
   "cell_type": "code",
   "execution_count": 79,
   "metadata": {},
   "outputs": [
    {
     "data": {
      "text/html": [
       "<div>\n",
       "<style>\n",
       "    .dataframe thead tr:only-child th {\n",
       "        text-align: right;\n",
       "    }\n",
       "\n",
       "    .dataframe thead th {\n",
       "        text-align: left;\n",
       "    }\n",
       "\n",
       "    .dataframe tbody tr th {\n",
       "        vertical-align: top;\n",
       "    }\n",
       "</style>\n",
       "<table border=\"1\" class=\"dataframe\">\n",
       "  <thead>\n",
       "    <tr style=\"text-align: right;\">\n",
       "      <th></th>\n",
       "      <th>0</th>\n",
       "      <th>1</th>\n",
       "      <th>2</th>\n",
       "      <th>3</th>\n",
       "      <th>4</th>\n",
       "      <th>5</th>\n",
       "      <th>6</th>\n",
       "      <th>7</th>\n",
       "      <th>8</th>\n",
       "      <th>9</th>\n",
       "      <th>10</th>\n",
       "      <th>11</th>\n",
       "      <th>12</th>\n",
       "      <th>13</th>\n",
       "      <th>14</th>\n",
       "      <th>15</th>\n",
       "      <th>16</th>\n",
       "      <th>17</th>\n",
       "      <th>18</th>\n",
       "      <th>19</th>\n",
       "    </tr>\n",
       "  </thead>\n",
       "  <tbody>\n",
       "    <tr>\n",
       "      <th>0</th>\n",
       "      <td>1.000515</td>\n",
       "      <td>0.052174</td>\n",
       "      <td>0.052162</td>\n",
       "      <td>-0.225515</td>\n",
       "      <td>0.168736</td>\n",
       "      <td>-0.062424</td>\n",
       "      <td>0.299545</td>\n",
       "      <td>0.112067</td>\n",
       "      <td>-0.112067</td>\n",
       "      <td>0.106174</td>\n",
       "      <td>0.242972</td>\n",
       "      <td>-0.152759</td>\n",
       "      <td>0.048600</td>\n",
       "      <td>-0.215041</td>\n",
       "      <td>0.149336</td>\n",
       "      <td>0.272055</td>\n",
       "      <td>0.099304</td>\n",
       "      <td>-0.332340</td>\n",
       "      <td>0.115079</td>\n",
       "      <td>-0.039016</td>\n",
       "    </tr>\n",
       "    <tr>\n",
       "      <th>1</th>\n",
       "      <td>0.052174</td>\n",
       "      <td>1.000515</td>\n",
       "      <td>1.000515</td>\n",
       "      <td>0.017679</td>\n",
       "      <td>-0.065736</td>\n",
       "      <td>-0.067820</td>\n",
       "      <td>-0.049236</td>\n",
       "      <td>0.075202</td>\n",
       "      <td>-0.075202</td>\n",
       "      <td>-0.207747</td>\n",
       "      <td>0.021325</td>\n",
       "      <td>-0.043139</td>\n",
       "      <td>-0.006138</td>\n",
       "      <td>0.054192</td>\n",
       "      <td>0.066119</td>\n",
       "      <td>-0.036562</td>\n",
       "      <td>-0.062944</td>\n",
       "      <td>0.044975</td>\n",
       "      <td>-0.086541</td>\n",
       "      <td>-0.090700</td>\n",
       "    </tr>\n",
       "    <tr>\n",
       "      <th>2</th>\n",
       "      <td>0.052162</td>\n",
       "      <td>1.000515</td>\n",
       "      <td>1.000515</td>\n",
       "      <td>0.017850</td>\n",
       "      <td>-0.065767</td>\n",
       "      <td>-0.067811</td>\n",
       "      <td>-0.049245</td>\n",
       "      <td>0.075189</td>\n",
       "      <td>-0.075189</td>\n",
       "      <td>-0.207751</td>\n",
       "      <td>0.021311</td>\n",
       "      <td>-0.043108</td>\n",
       "      <td>-0.006155</td>\n",
       "      <td>0.054213</td>\n",
       "      <td>0.066085</td>\n",
       "      <td>-0.036568</td>\n",
       "      <td>-0.062934</td>\n",
       "      <td>0.045017</td>\n",
       "      <td>-0.086524</td>\n",
       "      <td>-0.090713</td>\n",
       "    </tr>\n",
       "    <tr>\n",
       "      <th>3</th>\n",
       "      <td>-0.225515</td>\n",
       "      <td>0.017679</td>\n",
       "      <td>0.017850</td>\n",
       "      <td>1.000515</td>\n",
       "      <td>-0.497461</td>\n",
       "      <td>0.110119</td>\n",
       "      <td>-0.155933</td>\n",
       "      <td>-0.235713</td>\n",
       "      <td>0.235713</td>\n",
       "      <td>-0.183830</td>\n",
       "      <td>-0.275430</td>\n",
       "      <td>0.272949</td>\n",
       "      <td>0.017875</td>\n",
       "      <td>0.588909</td>\n",
       "      <td>-0.294825</td>\n",
       "      <td>-0.463810</td>\n",
       "      <td>-0.109711</td>\n",
       "      <td>0.650569</td>\n",
       "      <td>-0.137675</td>\n",
       "      <td>-0.043471</td>\n",
       "    </tr>\n",
       "    <tr>\n",
       "      <th>4</th>\n",
       "      <td>0.168736</td>\n",
       "      <td>-0.065736</td>\n",
       "      <td>-0.065767</td>\n",
       "      <td>-0.497461</td>\n",
       "      <td>1.000515</td>\n",
       "      <td>0.429826</td>\n",
       "      <td>-0.023591</td>\n",
       "      <td>0.042070</td>\n",
       "      <td>-0.042070</td>\n",
       "      <td>0.103446</td>\n",
       "      <td>0.359100</td>\n",
       "      <td>-0.044134</td>\n",
       "      <td>0.066782</td>\n",
       "      <td>-0.487825</td>\n",
       "      <td>0.252386</td>\n",
       "      <td>0.316773</td>\n",
       "      <td>0.035480</td>\n",
       "      <td>-0.679112</td>\n",
       "      <td>0.057152</td>\n",
       "      <td>0.669879</td>\n",
       "    </tr>\n",
       "    <tr>\n",
       "      <th>5</th>\n",
       "      <td>-0.062424</td>\n",
       "      <td>-0.067820</td>\n",
       "      <td>-0.067811</td>\n",
       "      <td>0.110119</td>\n",
       "      <td>0.429826</td>\n",
       "      <td>1.000515</td>\n",
       "      <td>-0.098059</td>\n",
       "      <td>-0.216450</td>\n",
       "      <td>0.216450</td>\n",
       "      <td>-0.128463</td>\n",
       "      <td>0.149752</td>\n",
       "      <td>0.031441</td>\n",
       "      <td>0.065551</td>\n",
       "      <td>0.099351</td>\n",
       "      <td>0.093570</td>\n",
       "      <td>-0.167527</td>\n",
       "      <td>-0.124102</td>\n",
       "      <td>0.007676</td>\n",
       "      <td>-0.169835</td>\n",
       "      <td>0.870609</td>\n",
       "    </tr>\n",
       "    <tr>\n",
       "      <th>6</th>\n",
       "      <td>0.299545</td>\n",
       "      <td>-0.049236</td>\n",
       "      <td>-0.049245</td>\n",
       "      <td>-0.155933</td>\n",
       "      <td>-0.023591</td>\n",
       "      <td>-0.098059</td>\n",
       "      <td>1.000515</td>\n",
       "      <td>0.378738</td>\n",
       "      <td>-0.378738</td>\n",
       "      <td>0.214880</td>\n",
       "      <td>0.135222</td>\n",
       "      <td>-0.230720</td>\n",
       "      <td>0.073732</td>\n",
       "      <td>-0.217529</td>\n",
       "      <td>0.123649</td>\n",
       "      <td>0.235853</td>\n",
       "      <td>0.128730</td>\n",
       "      <td>-0.193347</td>\n",
       "      <td>0.120778</td>\n",
       "      <td>-0.149846</td>\n",
       "    </tr>\n",
       "    <tr>\n",
       "      <th>7</th>\n",
       "      <td>0.112067</td>\n",
       "      <td>0.075202</td>\n",
       "      <td>0.075189</td>\n",
       "      <td>-0.235713</td>\n",
       "      <td>0.042070</td>\n",
       "      <td>-0.216450</td>\n",
       "      <td>0.378738</td>\n",
       "      <td>1.000515</td>\n",
       "      <td>-1.000515</td>\n",
       "      <td>0.125714</td>\n",
       "      <td>0.112198</td>\n",
       "      <td>-0.092001</td>\n",
       "      <td>0.164241</td>\n",
       "      <td>-0.244892</td>\n",
       "      <td>0.173926</td>\n",
       "      <td>0.240758</td>\n",
       "      <td>0.022154</td>\n",
       "      <td>-0.329784</td>\n",
       "      <td>0.010635</td>\n",
       "      <td>-0.252949</td>\n",
       "    </tr>\n",
       "    <tr>\n",
       "      <th>8</th>\n",
       "      <td>-0.112067</td>\n",
       "      <td>-0.075202</td>\n",
       "      <td>-0.075189</td>\n",
       "      <td>0.235713</td>\n",
       "      <td>-0.042070</td>\n",
       "      <td>0.216450</td>\n",
       "      <td>-0.378738</td>\n",
       "      <td>-1.000515</td>\n",
       "      <td>1.000515</td>\n",
       "      <td>-0.125714</td>\n",
       "      <td>-0.112198</td>\n",
       "      <td>0.092001</td>\n",
       "      <td>-0.164241</td>\n",
       "      <td>0.244892</td>\n",
       "      <td>-0.173926</td>\n",
       "      <td>-0.240758</td>\n",
       "      <td>-0.022154</td>\n",
       "      <td>0.329784</td>\n",
       "      <td>-0.010635</td>\n",
       "      <td>0.252949</td>\n",
       "    </tr>\n",
       "    <tr>\n",
       "      <th>9</th>\n",
       "      <td>0.106174</td>\n",
       "      <td>-0.207747</td>\n",
       "      <td>-0.207751</td>\n",
       "      <td>-0.183830</td>\n",
       "      <td>0.103446</td>\n",
       "      <td>-0.128463</td>\n",
       "      <td>0.214880</td>\n",
       "      <td>0.125714</td>\n",
       "      <td>-0.125714</td>\n",
       "      <td>1.000515</td>\n",
       "      <td>0.063482</td>\n",
       "      <td>0.012532</td>\n",
       "      <td>-0.124446</td>\n",
       "      <td>-0.228469</td>\n",
       "      <td>-0.077448</td>\n",
       "      <td>0.252115</td>\n",
       "      <td>0.221358</td>\n",
       "      <td>-0.176730</td>\n",
       "      <td>0.274238</td>\n",
       "      <td>-0.116559</td>\n",
       "    </tr>\n",
       "    <tr>\n",
       "      <th>10</th>\n",
       "      <td>0.242972</td>\n",
       "      <td>0.021325</td>\n",
       "      <td>0.021311</td>\n",
       "      <td>-0.275430</td>\n",
       "      <td>0.359100</td>\n",
       "      <td>0.149752</td>\n",
       "      <td>0.135222</td>\n",
       "      <td>0.112198</td>\n",
       "      <td>-0.112198</td>\n",
       "      <td>0.063482</td>\n",
       "      <td>1.000515</td>\n",
       "      <td>-0.180832</td>\n",
       "      <td>0.149575</td>\n",
       "      <td>-0.296662</td>\n",
       "      <td>0.250307</td>\n",
       "      <td>0.285450</td>\n",
       "      <td>0.008287</td>\n",
       "      <td>-0.408830</td>\n",
       "      <td>0.020558</td>\n",
       "      <td>0.207623</td>\n",
       "    </tr>\n",
       "    <tr>\n",
       "      <th>11</th>\n",
       "      <td>-0.152759</td>\n",
       "      <td>-0.043139</td>\n",
       "      <td>-0.043108</td>\n",
       "      <td>0.272949</td>\n",
       "      <td>-0.044134</td>\n",
       "      <td>0.031441</td>\n",
       "      <td>-0.230720</td>\n",
       "      <td>-0.092001</td>\n",
       "      <td>0.092001</td>\n",
       "      <td>0.012532</td>\n",
       "      <td>-0.180832</td>\n",
       "      <td>1.000515</td>\n",
       "      <td>-0.076478</td>\n",
       "      <td>0.335168</td>\n",
       "      <td>-0.389543</td>\n",
       "      <td>-0.460037</td>\n",
       "      <td>-0.165378</td>\n",
       "      <td>0.356869</td>\n",
       "      <td>-0.139492</td>\n",
       "      <td>0.061640</td>\n",
       "    </tr>\n",
       "    <tr>\n",
       "      <th>12</th>\n",
       "      <td>0.048600</td>\n",
       "      <td>-0.006138</td>\n",
       "      <td>-0.006155</td>\n",
       "      <td>0.017875</td>\n",
       "      <td>0.066782</td>\n",
       "      <td>0.065551</td>\n",
       "      <td>0.073732</td>\n",
       "      <td>0.164241</td>\n",
       "      <td>-0.164241</td>\n",
       "      <td>-0.124446</td>\n",
       "      <td>0.149575</td>\n",
       "      <td>-0.076478</td>\n",
       "      <td>1.000515</td>\n",
       "      <td>-0.113686</td>\n",
       "      <td>0.242905</td>\n",
       "      <td>0.081530</td>\n",
       "      <td>-0.069949</td>\n",
       "      <td>-0.189438</td>\n",
       "      <td>-0.162118</td>\n",
       "      <td>0.112034</td>\n",
       "    </tr>\n",
       "    <tr>\n",
       "      <th>13</th>\n",
       "      <td>-0.215041</td>\n",
       "      <td>0.054192</td>\n",
       "      <td>0.054213</td>\n",
       "      <td>0.588909</td>\n",
       "      <td>-0.487825</td>\n",
       "      <td>0.099351</td>\n",
       "      <td>-0.217529</td>\n",
       "      <td>-0.244892</td>\n",
       "      <td>0.244892</td>\n",
       "      <td>-0.228469</td>\n",
       "      <td>-0.296662</td>\n",
       "      <td>0.335168</td>\n",
       "      <td>-0.113686</td>\n",
       "      <td>1.000515</td>\n",
       "      <td>-0.076703</td>\n",
       "      <td>-0.690223</td>\n",
       "      <td>-0.337347</td>\n",
       "      <td>0.711203</td>\n",
       "      <td>-0.440585</td>\n",
       "      <td>-0.035740</td>\n",
       "    </tr>\n",
       "    <tr>\n",
       "      <th>14</th>\n",
       "      <td>0.149336</td>\n",
       "      <td>0.066119</td>\n",
       "      <td>0.066085</td>\n",
       "      <td>-0.294825</td>\n",
       "      <td>0.252386</td>\n",
       "      <td>0.093570</td>\n",
       "      <td>0.123649</td>\n",
       "      <td>0.173926</td>\n",
       "      <td>-0.173926</td>\n",
       "      <td>-0.077448</td>\n",
       "      <td>0.250307</td>\n",
       "      <td>-0.389543</td>\n",
       "      <td>0.242905</td>\n",
       "      <td>-0.076703</td>\n",
       "      <td>1.000515</td>\n",
       "      <td>0.108200</td>\n",
       "      <td>-0.419600</td>\n",
       "      <td>-0.496462</td>\n",
       "      <td>-0.550585</td>\n",
       "      <td>0.126525</td>\n",
       "    </tr>\n",
       "    <tr>\n",
       "      <th>15</th>\n",
       "      <td>0.272055</td>\n",
       "      <td>-0.036562</td>\n",
       "      <td>-0.036568</td>\n",
       "      <td>-0.463810</td>\n",
       "      <td>0.316773</td>\n",
       "      <td>-0.167527</td>\n",
       "      <td>0.235853</td>\n",
       "      <td>0.240758</td>\n",
       "      <td>-0.240758</td>\n",
       "      <td>0.252115</td>\n",
       "      <td>0.285450</td>\n",
       "      <td>-0.460037</td>\n",
       "      <td>0.081530</td>\n",
       "      <td>-0.690223</td>\n",
       "      <td>0.108200</td>\n",
       "      <td>1.000515</td>\n",
       "      <td>0.537842</td>\n",
       "      <td>-0.643323</td>\n",
       "      <td>0.658389</td>\n",
       "      <td>-0.094416</td>\n",
       "    </tr>\n",
       "    <tr>\n",
       "      <th>16</th>\n",
       "      <td>0.099304</td>\n",
       "      <td>-0.062944</td>\n",
       "      <td>-0.062934</td>\n",
       "      <td>-0.109711</td>\n",
       "      <td>0.035480</td>\n",
       "      <td>-0.124102</td>\n",
       "      <td>0.128730</td>\n",
       "      <td>0.022154</td>\n",
       "      <td>-0.022154</td>\n",
       "      <td>0.221358</td>\n",
       "      <td>0.008287</td>\n",
       "      <td>-0.165378</td>\n",
       "      <td>-0.069949</td>\n",
       "      <td>-0.337347</td>\n",
       "      <td>-0.419600</td>\n",
       "      <td>0.537842</td>\n",
       "      <td>1.000515</td>\n",
       "      <td>-0.097812</td>\n",
       "      <td>0.863114</td>\n",
       "      <td>-0.122384</td>\n",
       "    </tr>\n",
       "    <tr>\n",
       "      <th>17</th>\n",
       "      <td>-0.332340</td>\n",
       "      <td>0.044975</td>\n",
       "      <td>0.045017</td>\n",
       "      <td>0.650569</td>\n",
       "      <td>-0.679112</td>\n",
       "      <td>0.007676</td>\n",
       "      <td>-0.193347</td>\n",
       "      <td>-0.329784</td>\n",
       "      <td>0.329784</td>\n",
       "      <td>-0.176730</td>\n",
       "      <td>-0.408830</td>\n",
       "      <td>0.356869</td>\n",
       "      <td>-0.189438</td>\n",
       "      <td>0.711203</td>\n",
       "      <td>-0.496462</td>\n",
       "      <td>-0.643323</td>\n",
       "      <td>-0.097812</td>\n",
       "      <td>1.000515</td>\n",
       "      <td>-0.123962</td>\n",
       "      <td>-0.175969</td>\n",
       "    </tr>\n",
       "    <tr>\n",
       "      <th>18</th>\n",
       "      <td>0.115079</td>\n",
       "      <td>-0.086541</td>\n",
       "      <td>-0.086524</td>\n",
       "      <td>-0.137675</td>\n",
       "      <td>0.057152</td>\n",
       "      <td>-0.169835</td>\n",
       "      <td>0.120778</td>\n",
       "      <td>0.010635</td>\n",
       "      <td>-0.010635</td>\n",
       "      <td>0.274238</td>\n",
       "      <td>0.020558</td>\n",
       "      <td>-0.139492</td>\n",
       "      <td>-0.162118</td>\n",
       "      <td>-0.440585</td>\n",
       "      <td>-0.550585</td>\n",
       "      <td>0.658389</td>\n",
       "      <td>0.863114</td>\n",
       "      <td>-0.123962</td>\n",
       "      <td>1.000515</td>\n",
       "      <td>-0.153543</td>\n",
       "    </tr>\n",
       "    <tr>\n",
       "      <th>19</th>\n",
       "      <td>-0.039016</td>\n",
       "      <td>-0.090700</td>\n",
       "      <td>-0.090713</td>\n",
       "      <td>-0.043471</td>\n",
       "      <td>0.669879</td>\n",
       "      <td>0.870609</td>\n",
       "      <td>-0.149846</td>\n",
       "      <td>-0.252949</td>\n",
       "      <td>0.252949</td>\n",
       "      <td>-0.116559</td>\n",
       "      <td>0.207623</td>\n",
       "      <td>0.061640</td>\n",
       "      <td>0.112034</td>\n",
       "      <td>-0.035740</td>\n",
       "      <td>0.126525</td>\n",
       "      <td>-0.094416</td>\n",
       "      <td>-0.122384</td>\n",
       "      <td>-0.175969</td>\n",
       "      <td>-0.153543</td>\n",
       "      <td>1.000515</td>\n",
       "    </tr>\n",
       "  </tbody>\n",
       "</table>\n",
       "</div>"
      ],
      "text/plain": [
       "          0         1         2         3         4         5         6   \\\n",
       "0   1.000515  0.052174  0.052162 -0.225515  0.168736 -0.062424  0.299545   \n",
       "1   0.052174  1.000515  1.000515  0.017679 -0.065736 -0.067820 -0.049236   \n",
       "2   0.052162  1.000515  1.000515  0.017850 -0.065767 -0.067811 -0.049245   \n",
       "3  -0.225515  0.017679  0.017850  1.000515 -0.497461  0.110119 -0.155933   \n",
       "4   0.168736 -0.065736 -0.065767 -0.497461  1.000515  0.429826 -0.023591   \n",
       "5  -0.062424 -0.067820 -0.067811  0.110119  0.429826  1.000515 -0.098059   \n",
       "6   0.299545 -0.049236 -0.049245 -0.155933 -0.023591 -0.098059  1.000515   \n",
       "7   0.112067  0.075202  0.075189 -0.235713  0.042070 -0.216450  0.378738   \n",
       "8  -0.112067 -0.075202 -0.075189  0.235713 -0.042070  0.216450 -0.378738   \n",
       "9   0.106174 -0.207747 -0.207751 -0.183830  0.103446 -0.128463  0.214880   \n",
       "10  0.242972  0.021325  0.021311 -0.275430  0.359100  0.149752  0.135222   \n",
       "11 -0.152759 -0.043139 -0.043108  0.272949 -0.044134  0.031441 -0.230720   \n",
       "12  0.048600 -0.006138 -0.006155  0.017875  0.066782  0.065551  0.073732   \n",
       "13 -0.215041  0.054192  0.054213  0.588909 -0.487825  0.099351 -0.217529   \n",
       "14  0.149336  0.066119  0.066085 -0.294825  0.252386  0.093570  0.123649   \n",
       "15  0.272055 -0.036562 -0.036568 -0.463810  0.316773 -0.167527  0.235853   \n",
       "16  0.099304 -0.062944 -0.062934 -0.109711  0.035480 -0.124102  0.128730   \n",
       "17 -0.332340  0.044975  0.045017  0.650569 -0.679112  0.007676 -0.193347   \n",
       "18  0.115079 -0.086541 -0.086524 -0.137675  0.057152 -0.169835  0.120778   \n",
       "19 -0.039016 -0.090700 -0.090713 -0.043471  0.669879  0.870609 -0.149846   \n",
       "\n",
       "          7         8         9         10        11        12        13  \\\n",
       "0   0.112067 -0.112067  0.106174  0.242972 -0.152759  0.048600 -0.215041   \n",
       "1   0.075202 -0.075202 -0.207747  0.021325 -0.043139 -0.006138  0.054192   \n",
       "2   0.075189 -0.075189 -0.207751  0.021311 -0.043108 -0.006155  0.054213   \n",
       "3  -0.235713  0.235713 -0.183830 -0.275430  0.272949  0.017875  0.588909   \n",
       "4   0.042070 -0.042070  0.103446  0.359100 -0.044134  0.066782 -0.487825   \n",
       "5  -0.216450  0.216450 -0.128463  0.149752  0.031441  0.065551  0.099351   \n",
       "6   0.378738 -0.378738  0.214880  0.135222 -0.230720  0.073732 -0.217529   \n",
       "7   1.000515 -1.000515  0.125714  0.112198 -0.092001  0.164241 -0.244892   \n",
       "8  -1.000515  1.000515 -0.125714 -0.112198  0.092001 -0.164241  0.244892   \n",
       "9   0.125714 -0.125714  1.000515  0.063482  0.012532 -0.124446 -0.228469   \n",
       "10  0.112198 -0.112198  0.063482  1.000515 -0.180832  0.149575 -0.296662   \n",
       "11 -0.092001  0.092001  0.012532 -0.180832  1.000515 -0.076478  0.335168   \n",
       "12  0.164241 -0.164241 -0.124446  0.149575 -0.076478  1.000515 -0.113686   \n",
       "13 -0.244892  0.244892 -0.228469 -0.296662  0.335168 -0.113686  1.000515   \n",
       "14  0.173926 -0.173926 -0.077448  0.250307 -0.389543  0.242905 -0.076703   \n",
       "15  0.240758 -0.240758  0.252115  0.285450 -0.460037  0.081530 -0.690223   \n",
       "16  0.022154 -0.022154  0.221358  0.008287 -0.165378 -0.069949 -0.337347   \n",
       "17 -0.329784  0.329784 -0.176730 -0.408830  0.356869 -0.189438  0.711203   \n",
       "18  0.010635 -0.010635  0.274238  0.020558 -0.139492 -0.162118 -0.440585   \n",
       "19 -0.252949  0.252949 -0.116559  0.207623  0.061640  0.112034 -0.035740   \n",
       "\n",
       "          14        15        16        17        18        19  \n",
       "0   0.149336  0.272055  0.099304 -0.332340  0.115079 -0.039016  \n",
       "1   0.066119 -0.036562 -0.062944  0.044975 -0.086541 -0.090700  \n",
       "2   0.066085 -0.036568 -0.062934  0.045017 -0.086524 -0.090713  \n",
       "3  -0.294825 -0.463810 -0.109711  0.650569 -0.137675 -0.043471  \n",
       "4   0.252386  0.316773  0.035480 -0.679112  0.057152  0.669879  \n",
       "5   0.093570 -0.167527 -0.124102  0.007676 -0.169835  0.870609  \n",
       "6   0.123649  0.235853  0.128730 -0.193347  0.120778 -0.149846  \n",
       "7   0.173926  0.240758  0.022154 -0.329784  0.010635 -0.252949  \n",
       "8  -0.173926 -0.240758 -0.022154  0.329784 -0.010635  0.252949  \n",
       "9  -0.077448  0.252115  0.221358 -0.176730  0.274238 -0.116559  \n",
       "10  0.250307  0.285450  0.008287 -0.408830  0.020558  0.207623  \n",
       "11 -0.389543 -0.460037 -0.165378  0.356869 -0.139492  0.061640  \n",
       "12  0.242905  0.081530 -0.069949 -0.189438 -0.162118  0.112034  \n",
       "13 -0.076703 -0.690223 -0.337347  0.711203 -0.440585 -0.035740  \n",
       "14  1.000515  0.108200 -0.419600 -0.496462 -0.550585  0.126525  \n",
       "15  0.108200  1.000515  0.537842 -0.643323  0.658389 -0.094416  \n",
       "16 -0.419600  0.537842  1.000515 -0.097812  0.863114 -0.122384  \n",
       "17 -0.496462 -0.643323 -0.097812  1.000515 -0.123962 -0.175969  \n",
       "18 -0.550585  0.658389  0.863114 -0.123962  1.000515 -0.153543  \n",
       "19  0.126525 -0.094416 -0.122384 -0.175969 -0.153543  1.000515  "
      ]
     },
     "execution_count": 79,
     "metadata": {},
     "output_type": "execute_result"
    }
   ],
   "source": [
    "df_steel1_num_normalized1.cov()"
   ]
  },
  {
   "cell_type": "markdown",
   "metadata": {},
   "source": [
    "# Decision Tree"
   ]
  },
  {
   "cell_type": "code",
   "execution_count": 80,
   "metadata": {
    "collapsed": true
   },
   "outputs": [],
   "source": [
    "from sklearn.tree import DecisionTreeClassifier"
   ]
  },
  {
   "cell_type": "code",
   "execution_count": 96,
   "metadata": {
    "collapsed": true
   },
   "outputs": [],
   "source": [
    "model_tree = DecisionTreeClassifier(criterion='entropy',max_depth=6)"
   ]
  },
  {
   "cell_type": "code",
   "execution_count": 97,
   "metadata": {},
   "outputs": [
    {
     "data": {
      "text/plain": [
       "DecisionTreeClassifier(class_weight=None, criterion='entropy', max_depth=6,\n",
       "            max_features=None, max_leaf_nodes=None,\n",
       "            min_impurity_decrease=0.0, min_impurity_split=None,\n",
       "            min_samples_leaf=1, min_samples_split=2,\n",
       "            min_weight_fraction_leaf=0.0, presort=False, random_state=None,\n",
       "            splitter='best')"
      ]
     },
     "execution_count": 97,
     "metadata": {},
     "output_type": "execute_result"
    }
   ],
   "source": [
    "model_tree.fit(X=df_steel1_num_normalized1,y=steel1['Fault'])"
   ]
  },
  {
   "cell_type": "code",
   "execution_count": 98,
   "metadata": {
    "collapsed": true
   },
   "outputs": [],
   "source": [
    "pred_tree_training = model_tree.predict(X =df_steel1_num_normalized1)"
   ]
  },
  {
   "cell_type": "code",
   "execution_count": 99,
   "metadata": {},
   "outputs": [
    {
     "name": "stdout",
     "output_type": "stream",
     "text": [
      "[[294   1   3  95   6   0   3]\n",
      " [  3  32   0  19   1   0   0]\n",
      " [  7   0 377   5   2   0   0]\n",
      " [152   0  55 411  39   0  16]\n",
      " [ 15   1   0  69  73   0   0]\n",
      " [  2   0   0   5   0  65   0]\n",
      " [  5   0   8  10   2   0 165]]\n",
      "0.652628839466\n",
      "0.730036063885\n"
     ]
    }
   ],
   "source": [
    "from sklearn.metrics import confusion_matrix, cohen_kappa_score, accuracy_score\n",
    "print(confusion_matrix(steel1['Fault'],pred_tree_training))\n",
    "print(cohen_kappa_score(pred_tree_training,steel1['Fault']))\n",
    "print(accuracy_score(steel1['Fault'],pred_tree_training))"
   ]
  },
  {
   "cell_type": "markdown",
   "metadata": {},
   "source": [
    "# Grid Search"
   ]
  },
  {
   "cell_type": "code",
   "execution_count": 100,
   "metadata": {
    "collapsed": true
   },
   "outputs": [],
   "source": [
    "from sklearn.model_selection import cross_val_score, GridSearchCV, train_test_split"
   ]
  },
  {
   "cell_type": "code",
   "execution_count": 101,
   "metadata": {
    "collapsed": true
   },
   "outputs": [],
   "source": [
    "Train_X, Test_X, Train_Y, Test_Y = train_test_split(df_steel1_num_normalized1,steel1['Fault'], \n",
    "                                                    test_size=0.4, random_state=12345)"
   ]
  },
  {
   "cell_type": "code",
   "execution_count": 102,
   "metadata": {},
   "outputs": [
    {
     "data": {
      "text/plain": [
       "0.71304520645072722"
      ]
     },
     "execution_count": 102,
     "metadata": {},
     "output_type": "execute_result"
    }
   ],
   "source": [
    "grid_param = {'criterion':['gini','entropy'], 'max_depth':[3,4,6,7]}\n",
    "final_tree = GridSearchCV(model_tree, param_grid=grid_param,cv=5,n_jobs=-1, scoring = 'accuracy')\n",
    "final_tree.fit(X=Train_X, y=Train_Y)\n",
    "cross_val_score(final_tree, X=Train_X, y=Train_Y,cv=5).mean()"
   ]
  },
  {
   "cell_type": "code",
   "execution_count": 103,
   "metadata": {},
   "outputs": [
    {
     "data": {
      "text/plain": [
       "{'criterion': 'gini', 'max_depth': 7}"
      ]
     },
     "execution_count": 103,
     "metadata": {},
     "output_type": "execute_result"
    }
   ],
   "source": [
    "final_tree.best_params_"
   ]
  },
  {
   "cell_type": "code",
   "execution_count": 104,
   "metadata": {},
   "outputs": [
    {
     "name": "stdout",
     "output_type": "stream",
     "text": [
      "[[ 97   1   4  55   8   2   2]\n",
      " [  3  15   0   3   1   0   0]\n",
      " [  0   0 140   4   0   1   0]\n",
      " [ 51   8  13 173  35   3   4]\n",
      " [ 11   1   0  21  20   0   4]\n",
      " [  0   0   1   0   0  22   0]\n",
      " [  1   0   0   8   1   0  64]]\n",
      "0.683397683398\n"
     ]
    }
   ],
   "source": [
    "pred_tree = final_tree.predict(X=Test_X)\n",
    "print(confusion_matrix(pred_tree, Test_Y))\n",
    "print(accuracy_score(pred_tree, Test_Y))"
   ]
  },
  {
   "cell_type": "code",
   "execution_count": 105,
   "metadata": {
    "collapsed": true
   },
   "outputs": [],
   "source": [
    "pred_prob = final_tree.predict_proba(X = Test_X)"
   ]
  },
  {
   "cell_type": "code",
   "execution_count": 106,
   "metadata": {
    "collapsed": true
   },
   "outputs": [],
   "source": [
    "Pred_0 = pred_prob[:,0]"
   ]
  },
  {
   "cell_type": "code",
   "execution_count": 107,
   "metadata": {},
   "outputs": [
    {
     "data": {
      "text/plain": [
       "(777, 2)"
      ]
     },
     "execution_count": 107,
     "metadata": {},
     "output_type": "execute_result"
    }
   ],
   "source": [
    "D = pd.DataFrame([Pred_0, Test_Y]).T\n",
    "D.shape"
   ]
  },
  {
   "cell_type": "code",
   "execution_count": null,
   "metadata": {
    "collapsed": true
   },
   "outputs": [],
   "source": []
  }
 ],
 "metadata": {
  "kernelspec": {
   "display_name": "Python 3",
   "language": "python",
   "name": "python3"
  },
  "language_info": {
   "codemirror_mode": {
    "name": "ipython",
    "version": 3
   },
   "file_extension": ".py",
   "mimetype": "text/x-python",
   "name": "python",
   "nbconvert_exporter": "python",
   "pygments_lexer": "ipython3",
   "version": "3.6.3"
  }
 },
 "nbformat": 4,
 "nbformat_minor": 2
}
