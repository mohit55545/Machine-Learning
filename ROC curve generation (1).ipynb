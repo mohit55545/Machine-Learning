{
 "cells": [
  {
   "cell_type": "code",
   "execution_count": 1,
   "metadata": {
    "collapsed": true
   },
   "outputs": [],
   "source": [
    "from sklearn.datasets import load_iris\n",
    "import numpy as np"
   ]
  },
  {
   "cell_type": "code",
   "execution_count": 2,
   "metadata": {
    "collapsed": true
   },
   "outputs": [],
   "source": [
    "iris_data = load_iris()"
   ]
  },
  {
   "cell_type": "code",
   "execution_count": 3,
   "metadata": {
    "collapsed": true
   },
   "outputs": [],
   "source": [
    "index = range(100)"
   ]
  },
  {
   "cell_type": "code",
   "execution_count": 7,
   "metadata": {},
   "outputs": [],
   "source": [
    "D = iris_data.data[index,:]\n",
    "T = iris_data.target[index]"
   ]
  },
  {
   "cell_type": "code",
   "execution_count": 9,
   "metadata": {},
   "outputs": [
    {
     "data": {
      "text/plain": [
       "LogisticRegression(C=1.0, class_weight=None, dual=False, fit_intercept=True,\n",
       "          intercept_scaling=1, max_iter=100, multi_class='ovr', n_jobs=1,\n",
       "          penalty='l2', random_state=None, solver='liblinear', tol=0.0001,\n",
       "          verbose=0, warm_start=False)"
      ]
     },
     "execution_count": 9,
     "metadata": {},
     "output_type": "execute_result"
    }
   ],
   "source": [
    "from sklearn.linear_model import LogisticRegression\n",
    "lr_model = LogisticRegression()\n",
    "lr_model.fit(X=D, y=T)"
   ]
  },
  {
   "cell_type": "code",
   "execution_count": 10,
   "metadata": {},
   "outputs": [
    {
     "data": {
      "text/plain": [
       "array([[ 0.98390917,  0.01609083],\n",
       "       [ 0.9644754 ,  0.0355246 ],\n",
       "       [ 0.97670816,  0.02329184],\n",
       "       [ 0.95694433,  0.04305567],\n",
       "       [ 0.98549492,  0.01450508],\n",
       "       [ 0.98103758,  0.01896242],\n",
       "       [ 0.97497879,  0.02502121],\n",
       "       [ 0.97593072,  0.02406928],\n",
       "       [ 0.95033942,  0.04966058],\n",
       "       [ 0.9652527 ,  0.0347473 ],\n",
       "       [ 0.98666133,  0.01333867],\n",
       "       [ 0.96761024,  0.03238976],\n",
       "       [ 0.96647839,  0.03352161],\n",
       "       [ 0.97874802,  0.02125198],\n",
       "       [ 0.9962299 ,  0.0037701 ],\n",
       "       [ 0.99476333,  0.00523667],\n",
       "       [ 0.99217185,  0.00782815],\n",
       "       [ 0.98223225,  0.01776775],\n",
       "       [ 0.98241722,  0.01758278],\n",
       "       [ 0.98560983,  0.01439017],\n",
       "       [ 0.96824309,  0.03175691],\n",
       "       [ 0.98165317,  0.01834683],\n",
       "       [ 0.99297853,  0.00702147],\n",
       "       [ 0.94514064,  0.05485936],\n",
       "       [ 0.93848426,  0.06151574],\n",
       "       [ 0.94755307,  0.05244693],\n",
       "       [ 0.96362315,  0.03637685],\n",
       "       [ 0.98073498,  0.01926502],\n",
       "       [ 0.98215321,  0.01784679],\n",
       "       [ 0.95538613,  0.04461387],\n",
       "       [ 0.95067354,  0.04932646],\n",
       "       [ 0.97500336,  0.02499664],\n",
       "       [ 0.99266261,  0.00733739],\n",
       "       [ 0.99502755,  0.00497245],\n",
       "       [ 0.9652527 ,  0.0347473 ],\n",
       "       [ 0.98341096,  0.01658904],\n",
       "       [ 0.9890154 ,  0.0109846 ],\n",
       "       [ 0.9652527 ,  0.0347473 ],\n",
       "       [ 0.96516596,  0.03483404],\n",
       "       [ 0.97686919,  0.02313081],\n",
       "       [ 0.98516348,  0.01483652],\n",
       "       [ 0.90369299,  0.09630701],\n",
       "       [ 0.97376025,  0.02623975],\n",
       "       [ 0.96162348,  0.03837652],\n",
       "       [ 0.96194244,  0.03805756],\n",
       "       [ 0.95929258,  0.04070742],\n",
       "       [ 0.98375436,  0.01624564],\n",
       "       [ 0.96986146,  0.03013854],\n",
       "       [ 0.98611451,  0.01388549],\n",
       "       [ 0.97769458,  0.02230542],\n",
       "       [ 0.01546875,  0.98453125],\n",
       "       [ 0.01711451,  0.98288549],\n",
       "       [ 0.00747255,  0.99252745],\n",
       "       [ 0.01200592,  0.98799408],\n",
       "       [ 0.00801647,  0.99198353],\n",
       "       [ 0.00885065,  0.99114935],\n",
       "       [ 0.01105172,  0.98894828],\n",
       "       [ 0.06673143,  0.93326857],\n",
       "       [ 0.01177768,  0.98822232],\n",
       "       [ 0.02135383,  0.97864617],\n",
       "       [ 0.02583969,  0.97416031],\n",
       "       [ 0.0203444 ,  0.9796556 ],\n",
       "       [ 0.01712091,  0.98287909],\n",
       "       [ 0.0069765 ,  0.9930235 ],\n",
       "       [ 0.06933358,  0.93066642],\n",
       "       [ 0.02298597,  0.97701403],\n",
       "       [ 0.00929809,  0.99070191],\n",
       "       [ 0.0259525 ,  0.9740475 ],\n",
       "       [ 0.0037102 ,  0.9962898 ],\n",
       "       [ 0.02529145,  0.97470855],\n",
       "       [ 0.00533157,  0.99466843],\n",
       "       [ 0.03120653,  0.96879347],\n",
       "       [ 0.00244817,  0.99755183],\n",
       "       [ 0.00737237,  0.99262763],\n",
       "       [ 0.02105885,  0.97894115],\n",
       "       [ 0.01914391,  0.98085609],\n",
       "       [ 0.00641181,  0.99358819],\n",
       "       [ 0.00390237,  0.99609763],\n",
       "       [ 0.00945445,  0.99054555],\n",
       "       [ 0.07813305,  0.92186695],\n",
       "       [ 0.02622437,  0.97377563],\n",
       "       [ 0.03592812,  0.96407188],\n",
       "       [ 0.03296254,  0.96703746],\n",
       "       [ 0.00167741,  0.99832259],\n",
       "       [ 0.00857691,  0.99142309],\n",
       "       [ 0.01759913,  0.98240087],\n",
       "       [ 0.01074541,  0.98925459],\n",
       "       [ 0.00682414,  0.99317586],\n",
       "       [ 0.02736077,  0.97263923],\n",
       "       [ 0.01601489,  0.98398511],\n",
       "       [ 0.00843264,  0.99156736],\n",
       "       [ 0.01006964,  0.98993036],\n",
       "       [ 0.02300067,  0.97699933],\n",
       "       [ 0.06046175,  0.93953825],\n",
       "       [ 0.0142987 ,  0.9857013 ],\n",
       "       [ 0.02525051,  0.97474949],\n",
       "       [ 0.01983509,  0.98016491],\n",
       "       [ 0.01944337,  0.98055663],\n",
       "       [ 0.13713546,  0.86286454],\n",
       "       [ 0.02140788,  0.97859212]])"
      ]
     },
     "execution_count": 10,
     "metadata": {},
     "output_type": "execute_result"
    }
   ],
   "source": [
    "pred_prob = lr_model.predict_proba(X=D)\n",
    "pred_prob"
   ]
  },
  {
   "cell_type": "code",
   "execution_count": 11,
   "metadata": {},
   "outputs": [
    {
     "data": {
      "text/plain": [
       "array([ 0.        ,  0.05210526,  0.10421053,  0.15631579,  0.20842105,\n",
       "        0.26052632,  0.31263158,  0.36473684,  0.41684211,  0.46894737,\n",
       "        0.52105263,  0.57315789,  0.62526316,  0.67736842,  0.72947368,\n",
       "        0.78157895,  0.83368421,  0.88578947,  0.93789474,  0.99      ])"
      ]
     },
     "execution_count": 11,
     "metadata": {},
     "output_type": "execute_result"
    }
   ],
   "source": [
    "threshold_vals = np.linspace(0.0,0.99,num=20)\n",
    "threshold_vals"
   ]
  },
  {
   "cell_type": "code",
   "execution_count": 8,
   "metadata": {
    "collapsed": true
   },
   "outputs": [],
   "source": [
    "from sklearn.metrics import auc, roc_curve, confusion_matrix\n",
    "tpr = []\n",
    "fpr = []\n",
    "for th in threshold_vals:\n",
    "    y_cap = np.where(pred_prob[:,0]<th, 1,0)\n",
    "    cm = confusion_matrix(y_true=T, y_pred=y_cap)\n",
    "    #print(cm)\n",
    "    tpr.append(cm[1,1]/sum(cm[1,:]))\n",
    "    fpr.append(cm[0,1]/sum(cm[0,:]))"
   ]
  },
  {
   "cell_type": "code",
   "execution_count": 9,
   "metadata": {},
   "outputs": [
    {
     "data": {
      "text/plain": [
       "[<matplotlib.lines.Line2D at 0x7f31b5a269e8>]"
      ]
     },
     "execution_count": 9,
     "metadata": {},
     "output_type": "execute_result"
    },
    {
     "data": {
      "image/png": "[encoded data removed]",
      "text/plain": [
       "<matplotlib.figure.Figure at 0x7f31bf7726a0>"
      ]
     },
     "metadata": {},
     "output_type": "display_data"
    }
   ],
   "source": [
    "import matplotlib.pyplot as plt\n",
    "%matplotlib inline\n",
    "plt.plot(fpr, tpr)"
   ]
  },
  {
   "cell_type": "code",
   "execution_count": 10,
   "metadata": {
    "collapsed": true
   },
   "outputs": [],
   "source": [
    "tpr, fpr, th = roc_curve(T, pred_prob[:,0])"
   ]
  },
  {
   "cell_type": "code",
   "execution_count": 11,
   "metadata": {},
   "outputs": [
    {
     "data": {
      "text/plain": [
       "[<matplotlib.lines.Line2D at 0x7f31b5940080>]"
      ]
     },
     "execution_count": 11,
     "metadata": {},
     "output_type": "execute_result"
    },
    {
     "data": {
      "image/png": "[encoded data removed]",
      "text/plain": [
       "<matplotlib.figure.Figure at 0x7f31b59fc748>"
      ]
     },
     "metadata": {},
     "output_type": "display_data"
    }
   ],
   "source": [
    "plt.plot(fpr, tpr)"
   ]
  },
  {
   "cell_type": "code",
   "execution_count": null,
   "metadata": {
    "collapsed": true
   },
   "outputs": [],
   "source": []
  }
 ],
 "metadata": {
  "kernelspec": {
   "display_name": "Python 3",
   "language": "python",
   "name": "python3"
  },
  "language_info": {
   "codemirror_mode": {
    "name": "ipython",
    "version": 3
   },
   "file_extension": ".py",
   "mimetype": "text/x-python",
   "name": "python",
   "nbconvert_exporter": "python",
   "pygments_lexer": "ipython3",
   "version": "3.6.3"
  }
 },
 "nbformat": 4,
 "nbformat_minor": 2
}
